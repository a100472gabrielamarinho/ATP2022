{
 "cells": [
  {
   "cell_type": "markdown",
   "id": "4193a91b",
   "metadata": {},
   "source": [
    "### TPC7: Análise de dados: Alunos\n",
    "\n",
    "Descarregue o ficheiro de dados: `alunos.csv`\n",
    "Crie um programa em Python, conjunto de funções, que responda às seguintes questões:\n",
    "* Crie uma função que lê a informação do ficheiro para um modelo, previamente pensado em memória;\n",
    "* Crie uma função que calcula a distribuição dos alunos por curso;\n",
    "* Crie uma função que calcula a média das notas de cada aluno e acrescenta essa nova coluna no dataset em memória;\n",
    "* Considere os seguintes escalões de notas: E [1-4], D [5-8], C [9-12], B [13-16], A [17-20], acrescente uma coluna ao dataset com o escalão correspondente a cada aluno;\n",
    "* Crie uma distribuição dos alunos por escalão;\n",
    "* Crie uma função que apresenta na forma dum gráfico de linha uma distribuição;\n",
    "* Crie uma função que imprime na forma de uma tabela uma distribuição;\n",
    "* Especifique um programa que, ciclicamente, apresenta um menu com todas funcionalidades ao utilizador."
   ]
  },
  {
   "cell_type": "code",
   "execution_count": 10,
   "id": "a56b1254",
   "metadata": {},
   "outputs": [],
   "source": [
    "#FUNÇÕES\n",
    "import alunos\n",
    "import matplotlib.pyplot as plt\n",
    "aluno = alunos.ler(\"alunos.csv\")\n",
    "cursoss = alunos.curso2(aluno)\n",
    "cursos = alunos.cursoo(aluno)\n",
    "mediass = alunos.media(aluno)\n",
    "NOMES_ESCALAO = alunos.distribNOMES(aluno)\n",
    "CONTAGEM_ESCALAO = alunos.distribCONTAGEM(aluno)\n",
    "#escalao_grafico = alunos.graficoLINHAS(CONTAGEM_ESCALAO)\n",
    "#escalao_tabela = alunos.tabela(CONTAGEM_ESCALAO)\n",
    "#curso_grafico = alunos.graficoLINHAS(cursos)\n",
    "#curso_tabela = alunos.tabela(cursos)"
   ]
  },
  {
   "cell_type": "code",
   "execution_count": null,
   "id": "eeed1287",
   "metadata": {},
   "outputs": [],
   "source": [
    "#PROGRAMA:\n",
    "print(\"\\n  |MENU|\\n1) Ver dados\\n2) Distribuição por Curso em tabela\\n3) Distribuição por Curso em gráfico\\n4) Distribuição por Escalões de Nota em tabela\\n5) Distribuição por Escalões de Nota em gráfico\\n0) Terminar/Sair\")\n",
    "tecla = int(input(\"Olá! Introduza o algarismo correspondente à ação que deseja executar do MENU :)\"))\n",
    "while tecla!=0:\n",
    "    if tecla==1:\n",
    "        print(\"\\n\"f\"| {'VISUALIZAÇÃO SEGUNDO UM MODELO(lista de tuplos)':_^120} |\")\n",
    "        print(aluno)\n",
    "        print(\"\\n  |MENU|\\n1) Ver dados\\n2) Distribuição por Curso em tabela\\n3) Distribuição por Curso em gráfico\\n4) Distribuição por Escalões de Nota em tabela\\n5) Distribuição por Escalões de Nota em gráfico\\n0) Terminar/Sair\")\n",
    "        tecla = int(input(\"Introduza um novo algarismo para uma nova ação :)\"))\n",
    "    if tecla==2:\n",
    "        print(\"\\n\"f\"| {'DISTRIBUIÇÃO DOS ALUNOS POR CURSO EM TABELA:':_^120} |\")\n",
    "        alunos.tabela(cursos)\n",
    "        print(\"\\n  |MENU|\\n1) Ver dados\\n2) Distribuição por Curso em tabela\\n3) Distribuição por Curso em gráfico\\n4) Distribuição por Escalões de Nota em tabela\\n5) Distribuição por Escalões de Nota em gráfico\\n0) Terminar/Sair\")\n",
    "        tecla = int(input(\"Introduza um novo algarismo para uma nova ação :)\"))\n",
    "    if tecla==3:\n",
    "        print(\"\\n\"f\"| {'DISTRIBUIÇÃO DOS ALUNOS POR CURSO EM GRÁFICO:':_^120} |\")\n",
    "        alunos.graficoLINHAS(cursos)\n",
    "        print(\"\\n  |MENU|\\n1) Ver dados\\n2) Distribuição por Curso em tabela\\n3) Distribuição por Curso em gráfico\\n4) Distribuição por Escalões de Nota em tabela\\n5) Distribuição por Escalões de Nota em gráfico\\n0) Terminar/Sair\")\n",
    "        tecla = int(input(\"Introduza um novo algarismo para uma nova ação :)\"))\n",
    "    if tecla==4:\n",
    "        print(\"\\n\"f\"| {'DISTRIBUIÇÃO DOS ALUNOs POR ESCALÕES DE NOTA (em tabela)':_^120} |\")\n",
    "        alunos.tabela(CONTAGEM_ESCALAO)\n",
    "        print(\"\\n  |MENU|\\n1) Ver dados\\n2) Distribuição por Curso em tabela\\n3) Distribuição por Curso em gráfico\\n4) Distribuição por Escalões de Nota em tabela\\n5) Distribuição por Escalões de Nota em gráfico\\n0) Terminar/Sair\")\n",
    "        tecla = int(input(\"Introduza um novo algarismo para uma nova ação :)\"))\n",
    "    if tecla==5:\n",
    "        print(\"\\n\"f\"| {'DISTRIBUIÇÃO DOS ALUNOs POR ESCALÕES DE NOTA (em gráfico)':_^120} |\")\n",
    "        alunos.graficoLINHAS(CONTAGEM_ESCALAO)\n",
    "        print(\"\\n  |MENU|\\n1) Ver dados\\n2) Distribuição por Curso em tabela\\n3) Distribuição por Curso em gráfico\\n4) Distribuição por Escalões de Nota em tabela\\n5) Distribuição por Escalões de Nota em gráfico\\n0) Terminar/Sair\")\n",
    "        tecla = int(input(\"Introduza um novo algarismo para uma nova ação :)\"))\n",
    "    else:\n",
    "        print(\"\\n  |MENU|\\n1) Ver dados\\n2) Distribuição por Curso em tabela\\n3) Distribuição por Curso em gráfico\\n4) Distribuição por Escalões de Nota em tabela\\n5) Distribuição por Escalões de Nota em gráfico\\n0) Terminar/Sair\")\n",
    "        tecla=int(input(\"Parece que não introduziu um valor válido... Por favor digite apenas um dos algarismos disponíveis no MENU :)\"))\n"
   ]
  }
 ],
 "metadata": {
  "kernelspec": {
   "display_name": "Python 3.10.7 64-bit",
   "language": "python",
   "name": "python3"
  },
  "language_info": {
   "codemirror_mode": {
    "name": "ipython",
    "version": 3
   },
   "file_extension": ".py",
   "mimetype": "text/x-python",
   "name": "python",
   "nbconvert_exporter": "python",
   "pygments_lexer": "ipython3",
   "version": "3.10.7"
  },
  "vscode": {
   "interpreter": {
    "hash": "b1be5a1e9e85905d3e4e97ef1b769f5caa870a8a58c9f9e0ae488b6f0a0e1baf"
   }
  }
 },
 "nbformat": 4,
 "nbformat_minor": 5
}
