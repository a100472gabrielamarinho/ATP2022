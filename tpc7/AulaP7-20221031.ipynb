{
 "cells": [
  {
   "cell_type": "markdown",
   "id": "1e545158",
   "metadata": {},
   "source": [
    "# Aula Prática 7 (guião)\n",
    "### Semana de 31 de Outubro a 4 de Novembro de 2022\n",
    "### José Carlos Ramalho e Luís Cunha\n",
    "### Sinopsis:\n",
    "Algoritmos "
   ]
  },
  {
   "cell_type": "markdown",
   "id": "967431ad",
   "metadata": {},
   "source": [
    "### Exercício 1: Considere os seguintes comentários que definem um modelo para guardar os registos de temperatura e precipitação ao longo de vários dias, materializado na variável tabMeteo1:"
   ]
  },
  {
   "cell_type": "code",
   "execution_count": 1,
   "id": "5eda70eb",
   "metadata": {},
   "outputs": [],
   "source": [
    "# TabMeteo = [(Data,TempMin,TempMax,Precipitacao)]\n",
    "    # Data = (Int,Int,Int)\n",
    "    # TempMin = Float\n",
    "    # TempMax = Float\n",
    "    # Precipitacao = Float\n",
    "\n",
    "tabMeteo1 = [((2022,1,20), 2, 16, 0),((2022,1,21), 1, 13, 0.2)]"
   ]
  },
  {
   "cell_type": "markdown",
   "id": "4927f7a9",
   "metadata": {},
   "source": [
    "### 1.a) Calcula a temperatura média de cada dia, dando como resultado uma lista de pares: [(data, temperaturaMédia)]:\n",
    "\n",
    "``` \n",
    "def medias(tabMeteo):\n",
    "    ... \n",
    "    return ... \n",
    "```"
   ]
  },
  {
   "cell_type": "code",
   "execution_count": 2,
   "id": "ac235e8f",
   "metadata": {},
   "outputs": [
    {
     "name": "stdout",
     "output_type": "stream",
     "text": [
      "[]\n"
     ]
    }
   ],
   "source": [
    "def medias(tabMeteo):\n",
    "    res = []\n",
    "    # ...\n",
    "    return res\n",
    "\n",
    "print(medias(tabMeteo1))"
   ]
  },
  {
   "cell_type": "markdown",
   "id": "4d8154bb",
   "metadata": {},
   "source": [
    "### 1.b) Calcula a temperatura mínima mais baixa registada na tabela, dando como resultado esse valor:\n",
    "\n",
    "``` \n",
    "def minMin(tabMeteo):\n",
    "    ... \n",
    "    return ... \n",
    "```"
   ]
  },
  {
   "cell_type": "code",
   "execution_count": 3,
   "id": "a01aefa9",
   "metadata": {},
   "outputs": [
    {
     "name": "stdout",
     "output_type": "stream",
     "text": [
      "None\n"
     ]
    }
   ],
   "source": [
    "def minMin(tabMeteo):\n",
    "    # ...\n",
    "    return \n",
    "\n",
    "print(minMin(tabMeteo1))"
   ]
  },
  {
   "cell_type": "markdown",
   "id": "e055ae1a",
   "metadata": {},
   "source": [
    "### 1.c) Calcula a amplitude térmica (diferença entre a temperatura máxima e a temperatura mínima) de cada dia, dando como resultado uma lista de pares: [(data, amplitude)]\n",
    "\n",
    "``` \n",
    "def amplTerm(tabMeteo):\n",
    "    ... \n",
    "    return ... \n",
    "```"
   ]
  },
  {
   "cell_type": "code",
   "execution_count": 4,
   "id": "4f76a805",
   "metadata": {},
   "outputs": [
    {
     "name": "stdout",
     "output_type": "stream",
     "text": [
      "[]\n"
     ]
    }
   ],
   "source": [
    "def amplTerm(tabMeteo):\n",
    "    res = []\n",
    "    # ... \n",
    "    return res \n",
    "\n",
    "print(amplTerm(tabMeteo1))"
   ]
  },
  {
   "cell_type": "markdown",
   "id": "5c482db9",
   "metadata": {},
   "source": [
    "### 1.d) Calcula o dia em que a precipitação registada teve o seu valor máximo e indica esse valor, dando como resultado o par (data, valor):\n",
    "\n",
    "```\n",
    "def maxChuva(tabMeteo):\n",
    "    ... \n",
    "    return ... \n",
    "```"
   ]
  },
  {
   "cell_type": "code",
   "execution_count": 5,
   "id": "21a1e1dc",
   "metadata": {},
   "outputs": [
    {
     "name": "stdout",
     "output_type": "stream",
     "text": [
      "None\n"
     ]
    }
   ],
   "source": [
    "def maxChuva(tabMeteo):\n",
    "    # ...\n",
    "    return \n",
    "\n",
    "print(maxChuva(tabMeteo1))"
   ]
  },
  {
   "cell_type": "markdown",
   "id": "2f205e2d",
   "metadata": {},
   "source": [
    "### Exercício 2: Voltando a um dos temas abordados nas aulas especifique funções que:\n",
    "\n",
    "### 2.a) Calcula a lista de divisores de um número inteiro (se um número divide o número passado como argumento dando resto zero na divisão inteira, é considerado um divisor desse número):\n",
    "\n",
    "``` \n",
    "def divisores(n):\n",
    "    ... \n",
    "    return ... \n",
    "```"
   ]
  },
  {
   "cell_type": "code",
   "execution_count": 6,
   "id": "d2ea4da9",
   "metadata": {},
   "outputs": [
    {
     "name": "stdout",
     "output_type": "stream",
     "text": [
      "1: []\n",
      "48: []\n",
      "95: []\n",
      "142: []\n",
      "189: []\n",
      "236: []\n",
      "283: []\n",
      "330: []\n",
      "377: []\n",
      "424: []\n",
      "471: []\n",
      "518: []\n",
      "565: []\n",
      "612: []\n",
      "659: []\n"
     ]
    }
   ],
   "source": [
    "def divisores(n):\n",
    "    res = []\n",
    "    # ...\n",
    "    return res\n",
    "\n",
    "for j in range(1, 700, 47):\n",
    "    print(str(j) + \": \" + str(divisores(j)))"
   ]
  },
  {
   "cell_type": "markdown",
   "id": "03887104",
   "metadata": {},
   "source": [
    "### 2.b) Verifica se um número inteiro é primo (tem apenas como divisores a unidade e o próprio número), dando como resultado True ou False:\n",
    "\n",
    "``` \n",
    "def eprimo(n):\n",
    "    ... \n",
    "    return ... \n",
    "```"
   ]
  },
  {
   "cell_type": "code",
   "execution_count": 7,
   "id": "ddee7b3f",
   "metadata": {},
   "outputs": [
    {
     "name": "stdout",
     "output_type": "stream",
     "text": [
      "1: None\n",
      "2: None\n",
      "3: None\n",
      "4: None\n",
      "5: None\n",
      "6: None\n",
      "7: None\n",
      "8: None\n",
      "9: None\n",
      "10: None\n",
      "11: None\n",
      "12: None\n",
      "13: None\n",
      "14: None\n",
      "15: None\n",
      "16: None\n",
      "17: None\n",
      "18: None\n",
      "19: None\n",
      "20: None\n",
      "21: None\n",
      "22: None\n",
      "23: None\n",
      "24: None\n",
      "25: None\n",
      "26: None\n",
      "27: None\n",
      "28: None\n",
      "29: None\n",
      "30: None\n",
      "31: None\n",
      "32: None\n",
      "33: None\n",
      "34: None\n",
      "35: None\n",
      "36: None\n",
      "37: None\n",
      "38: None\n",
      "39: None\n",
      "40: None\n",
      "41: None\n",
      "42: None\n",
      "43: None\n",
      "44: None\n",
      "45: None\n",
      "46: None\n",
      "47: None\n",
      "48: None\n",
      "49: None\n",
      "50: None\n",
      "51: None\n",
      "52: None\n",
      "53: None\n",
      "54: None\n",
      "55: None\n",
      "56: None\n",
      "57: None\n",
      "58: None\n",
      "59: None\n",
      "60: None\n",
      "61: None\n",
      "62: None\n",
      "63: None\n",
      "64: None\n",
      "65: None\n",
      "66: None\n",
      "67: None\n",
      "68: None\n",
      "69: None\n",
      "70: None\n",
      "71: None\n",
      "72: None\n",
      "73: None\n",
      "74: None\n",
      "75: None\n",
      "76: None\n",
      "77: None\n",
      "78: None\n",
      "79: None\n",
      "80: None\n",
      "81: None\n",
      "82: None\n",
      "83: None\n",
      "84: None\n",
      "85: None\n",
      "86: None\n",
      "87: None\n",
      "88: None\n",
      "89: None\n",
      "90: None\n",
      "91: None\n",
      "92: None\n",
      "93: None\n",
      "94: None\n",
      "95: None\n",
      "96: None\n",
      "97: None\n",
      "98: None\n",
      "99: None\n",
      "100: None\n",
      "101: None\n",
      "102: None\n",
      "103: None\n",
      "104: None\n",
      "105: None\n",
      "106: None\n",
      "107: None\n",
      "108: None\n",
      "109: None\n",
      "110: None\n",
      "111: None\n",
      "112: None\n",
      "113: None\n",
      "114: None\n",
      "115: None\n",
      "116: None\n",
      "117: None\n",
      "118: None\n",
      "119: None\n",
      "120: None\n",
      "121: None\n",
      "122: None\n",
      "123: None\n",
      "124: None\n",
      "125: None\n",
      "126: None\n",
      "127: None\n",
      "128: None\n",
      "129: None\n",
      "130: None\n",
      "131: None\n",
      "132: None\n",
      "133: None\n",
      "134: None\n",
      "135: None\n",
      "136: None\n",
      "137: None\n",
      "138: None\n",
      "139: None\n",
      "140: None\n",
      "141: None\n",
      "142: None\n",
      "143: None\n",
      "144: None\n",
      "145: None\n",
      "146: None\n",
      "147: None\n",
      "148: None\n",
      "149: None\n",
      "150: None\n",
      "151: None\n",
      "152: None\n",
      "153: None\n",
      "154: None\n",
      "155: None\n",
      "156: None\n",
      "157: None\n",
      "158: None\n",
      "159: None\n",
      "160: None\n",
      "161: None\n",
      "162: None\n",
      "163: None\n",
      "164: None\n",
      "165: None\n",
      "166: None\n",
      "167: None\n",
      "168: None\n",
      "169: None\n",
      "170: None\n",
      "171: None\n",
      "172: None\n",
      "173: None\n",
      "174: None\n",
      "175: None\n",
      "176: None\n",
      "177: None\n",
      "178: None\n",
      "179: None\n",
      "180: None\n",
      "181: None\n",
      "182: None\n",
      "183: None\n",
      "184: None\n",
      "185: None\n",
      "186: None\n",
      "187: None\n",
      "188: None\n",
      "189: None\n",
      "190: None\n",
      "191: None\n",
      "192: None\n",
      "193: None\n",
      "194: None\n",
      "195: None\n",
      "196: None\n",
      "197: None\n",
      "198: None\n",
      "199: None\n"
     ]
    }
   ],
   "source": [
    "# Reutilizando a função anterior...\n",
    "def eprimo(n):\n",
    "    # ...\n",
    "    return \n",
    "\n",
    "for x in range(1,200):\n",
    "    print(str(x) + \": \" + str(eprimo(x)))"
   ]
  },
  {
   "cell_type": "markdown",
   "id": "ed43d3eb",
   "metadata": {},
   "source": [
    "### 2.c) Calcula a lista de números primos até um determinado número dado (inclusive):\n",
    "\n",
    "```\n",
    "def primosN(n):\n",
    "    ... \n",
    "    return ... \n",
    "```"
   ]
  },
  {
   "cell_type": "code",
   "execution_count": 8,
   "id": "f451f1c2",
   "metadata": {},
   "outputs": [
    {
     "name": "stdout",
     "output_type": "stream",
     "text": [
      "[]\n"
     ]
    }
   ],
   "source": [
    "def primosN(n):\n",
    "    res = []\n",
    "    return res\n",
    "\n",
    "print(primosN(100))"
   ]
  },
  {
   "cell_type": "markdown",
   "id": "d83d31d0",
   "metadata": {},
   "source": [
    "### 2.d) Calcula quantos números inteiros entre 1 e 10000 são múltiplos de 23 e devolve esse número (um múltiplo de 23 é um número que tem 23 como divisor):\n",
    "\n",
    "```\n",
    "def multiplos23():\n",
    "    ... \n",
    "    return ... \n",
    "```"
   ]
  },
  {
   "cell_type": "code",
   "execution_count": 9,
   "id": "8931b1ca",
   "metadata": {},
   "outputs": [
    {
     "name": "stdout",
     "output_type": "stream",
     "text": [
      "None\n"
     ]
    }
   ],
   "source": [
    "def multiplos23():\n",
    "    res = []\n",
    "    return \n",
    "\n",
    "print(multiplos23())"
   ]
  },
  {
   "cell_type": "markdown",
   "id": "ae949737",
   "metadata": {},
   "source": [
    "### Exercício 3: Espeficique uma função que recebe um número romano e devolve o correspondente número decimal"
   ]
  },
  {
   "cell_type": "code",
   "execution_count": 10,
   "id": "54b85eb0",
   "metadata": {},
   "outputs": [],
   "source": [
    "# Solução do exercício 3\n",
    "def Roman2Dec(r):\n",
    "    res = 0\n",
    "    # ...\n",
    "    return res"
   ]
  },
  {
   "cell_type": "markdown",
   "id": "9761d73f",
   "metadata": {},
   "source": [
    "### Metodologia\n",
    "\n",
    "Ao longo dos próximos exercícios irás construir um módulo Python para desenho usando a biblioteca `matplotlib`.\n",
    "Nesse sentido, coloca todas as funções que desenvolveres num módulo chamado `myDrawingFunctions.py` que deverás importar nos programas que irás desenvolver neste guião."
   ]
  },
  {
   "cell_type": "markdown",
   "id": "1d9c2fbc",
   "metadata": {},
   "source": [
    "### Exercício 4: O quadrado \n",
    "\n",
    "Especifica, no teu módulo, uma função para desenhar um quadrado. Além do lado, pensa em parâmetros que te permitam posicionar o quadrado no plano xy.\n",
    "\n",
    "Importa o módulo num programa que irá desenhar os seguintes quadrados:\n",
    "* 1 quadrado de 100 unidades de lado, centrado na origem;\n",
    "* 99 quadrados, dentro do quadrado inicial, em que as coordenadas do canto inferior esquerdo vão sendo incrementadas de 1, ou o lado decrementado de 1."
   ]
  },
  {
   "cell_type": "code",
   "execution_count": 11,
   "id": "fde54325",
   "metadata": {},
   "outputs": [
    {
     "ename": "ModuleNotFoundError",
     "evalue": "No module named 'myDrawingFunctions'",
     "output_type": "error",
     "traceback": [
      "\u001b[1;31m---------------------------------------------------------------------------\u001b[0m",
      "\u001b[1;31mModuleNotFoundError\u001b[0m                       Traceback (most recent call last)",
      "Cell \u001b[1;32mIn [11], line 2\u001b[0m\n\u001b[0;32m      1\u001b[0m \u001b[39m# Solução do exercício 4\u001b[39;00m\n\u001b[1;32m----> 2\u001b[0m \u001b[39mimport\u001b[39;00m \u001b[39mmyDrawingFunctions\u001b[39;00m \u001b[39mas\u001b[39;00m \u001b[39mdraw\u001b[39;00m\n\u001b[0;32m      4\u001b[0m draw\u001b[39m.\u001b[39mquad(\u001b[39m0\u001b[39m, \u001b[39m0\u001b[39m, \u001b[39m100\u001b[39m)\n\u001b[0;32m      5\u001b[0m draw\u001b[39m.\u001b[39mnquad(\u001b[39m0\u001b[39m, \u001b[39m0\u001b[39m, [x \u001b[39mfor\u001b[39;00m x \u001b[39min\u001b[39;00m \u001b[39mrange\u001b[39m(\u001b[39m1\u001b[39m, \u001b[39m101\u001b[39m, \u001b[39m5\u001b[39m)])\n",
      "\u001b[1;31mModuleNotFoundError\u001b[0m: No module named 'myDrawingFunctions'"
     ]
    }
   ],
   "source": [
    "# Solução do exercício 4\n",
    "import myDrawingFunctions as draw\n",
    "\n",
    "draw.quad(0, 0, 100)\n",
    "draw.nquad(0, 0, [x for x in range(1, 101, 5)])"
   ]
  },
  {
   "cell_type": "markdown",
   "id": "57f1522d",
   "metadata": {},
   "source": [
    "### Exercício 5: O retângulo\n",
    "\n",
    "Acrescenta ao teu módulo uma função para desenhar um retângulo devidamente posicionado. Acrescenta um parâmetro cor.\n",
    "\n",
    "Usa agora as funcionalidades do teu módulo para desenhar os seguintes retângulos:\n",
    "* 1 retângulo com o canto inferior esquerdo em (0,0) e o canto superior direito em (5,10);\n",
    "* 10 retângulos, lado a lado, em que os ímpares têm altura 100 e largura 20 e os pares altura 70 e largura 10;\n",
    "* Faz variar a cor entre os retângulos. "
   ]
  },
  {
   "cell_type": "code",
   "execution_count": null,
   "id": "199c3004",
   "metadata": {},
   "outputs": [],
   "source": [
    "# Solução do exercício 5\n",
    "import myDrawingFunctions as draw\n",
    "\n",
    "draw.rect(0, 0, 5, 100)\n"
   ]
  },
  {
   "cell_type": "markdown",
   "id": "08100b64",
   "metadata": {},
   "source": [
    "### Exercício 6: O círculo\n",
    "\n",
    "Acrescenta ao teu módulo uma função para desenhar um círculo devidamente posicionado. Acrescenta um parâmetro cor.\n",
    "\n",
    "Usa agora as funcionalidades do teu módulo para desenhar os seguintes círculos:\n",
    "* 1 círculo de raio 10, centrado na origem;\n",
    "* 10 círculos, concêntricos, centrados na origem, com lados `[10,20,30,40,50,60,70,80,90,100]`;\n",
    "* Faz variar a cor entre os círculos. "
   ]
  },
  {
   "cell_type": "code",
   "execution_count": null,
   "id": "d08949e6",
   "metadata": {},
   "outputs": [
    {
     "ename": "ModuleNotFoundError",
     "evalue": "No module named 'myDrawingFunctions'",
     "output_type": "error",
     "traceback": [
      "\u001b[1;31m---------------------------------------------------------------------------\u001b[0m",
      "\u001b[1;31mModuleNotFoundError\u001b[0m                       Traceback (most recent call last)",
      "Cell \u001b[1;32mIn [1], line 2\u001b[0m\n\u001b[0;32m      1\u001b[0m \u001b[39m# Solução do exercício 6\u001b[39;00m\n\u001b[1;32m----> 2\u001b[0m \u001b[39mimport\u001b[39;00m \u001b[39mmyDrawingFunctions\u001b[39;00m \u001b[39mas\u001b[39;00m \u001b[39mdraw\u001b[39;00m\n\u001b[0;32m      4\u001b[0m draw\u001b[39m.\u001b[39mcirc(\u001b[39m0\u001b[39m, \u001b[39m0\u001b[39m, \u001b[39m10\u001b[39m)\n",
      "\u001b[1;31mModuleNotFoundError\u001b[0m: No module named 'myDrawingFunctions'"
     ]
    }
   ],
   "source": [
    "# Solução do exercício 6\n",
    "import myDrawingFunctions as draw\n",
    "\n",
    "draw.circ(0, 0, 10)\n",
    "# ..."
   ]
  },
  {
   "cell_type": "markdown",
   "id": "4193a91b",
   "metadata": {},
   "source": [
    "### TPC7: Análise de dados: Alunos\n",
    "\n",
    "Descarregue o ficheiro de dados: `alunos.csv`\n",
    "Crie um programa em Python, conjunto de funções, que responda às seguintes questões:\n",
    "* Crie uma função que lê a informação do ficheiro para um modelo, previamente pensado em memória;\n",
    "* Crie uma função que calcula a distribuição dos alunos por curso;\n",
    "* Crie uma função que calcula a média das notas de cada aluno e acrescenta essa nova coluna no dataset em memória;\n",
    "* Considere os seguintes escalões de notas: E [1-4], D [5-8], C [9-12], B [13-16], A [17-20], acrescente uma coluna ao dataset com o escalão correspondente a cada aluno;\n",
    "* Crie uma distribuição dos alunos por escalão;\n",
    "* Crie uma função que apresenta na forma dum gráfico de linha uma distribuição;\n",
    "* Crie uma função que imprime na forma de uma tabela uma distribuição;\n",
    "* Especifique um programa que, ciclicamente, apresenta um menu com todas funcionalidades ao utilizador."
   ]
  },
  {
   "cell_type": "code",
   "execution_count": null,
   "id": "a56b1254",
   "metadata": {},
   "outputs": [],
   "source": [
    "#FUNÇÕES\n",
    "import alunos\n",
    "aluno = alunos.ler(\"alunos.csv\")\n",
    "cursoss = alunos.curso2(aluno)\n",
    "cursos = alunos.cursoo(aluno)\n",
    "mediass = alunos.media(aluno)\n",
    "NOMES_ESCALAO = alunos.distribNOMES(aluno)\n",
    "CONTAGEM_ESCALAO = alunos.distribCONTAGEM(aluno)\n",
    "escalao_grafico = alunos.graficoLINHAS(CONTAGEM_ESCALAO)\n",
    "escalao_tabela = alunos.tabela(CONTAGEM_ESCALAO)\n",
    "curso_grafico = alunos.graficoLINHAS(cursos)\n",
    "curso_tabela = alunos.tabela(cursos)"
   ]
  },
  {
   "cell_type": "code",
   "execution_count": 11,
   "id": "eeed1287",
   "metadata": {},
   "outputs": [
    {
     "name": "stdout",
     "output_type": "stream",
     "text": [
      "  |MENU|\n",
      "1) Ver dados\n",
      "2) Distribuição por Curso em tabela\n",
      "3) Distribuição por Curso em gráfico\n",
      "4) Distribuição por Escalões de Nota em tabela\n",
      "5) Distribuição por Escalões de Nota em gráfico\n",
      "0) Terminar/Sair\n",
      "\n",
      "| ==========================VISUALIZAÇÃO SEGUNDO UM MODELO(lista de tuplos)=========================== |\n",
      "[('a1', 'Aysha Melanie Gilberto', 'LEI', '12', '8', '19', '8', 'C'), ('a2', 'Igor André Cantanhede', 'ENGFIS', '12', '16', '18', '20', 'B'), ('a3', 'Laurénio Narciso', 'ENGFIS', '8', '14', '15', '14', 'C'), ('a4', 'Jasnoor Casegas', 'LCC', '14', '20', '17', '11', 'B'), ('a5', 'Tawseef Rebouças', 'ENGBIOM', '13', '14', '13', '17', 'B'), ('a6', 'Eryk Clementino', 'LEI', '10', '19', '11', '14', 'B'), ('a7', 'Ianna Noivo', 'ENGBIOM', '15', '15', '17', '16', 'B'), ('a8', 'Ayla Thaissa Reina', 'ENGBIOM', '12', '8', '8', '18', 'C'), ('a9', 'Cássia Viviane Coitã', 'ENGFIS', '19', '9', '14', '10', 'B'), ('a10', 'Koby Vindima', 'LEI', '9', '14', '20', '13', 'B'), ('a11', 'Gustavo Martim Hernandez', 'ENGBIOM', '11', '8', '14', '11', 'C'), ('a12', 'Siddarta Beiriz', 'LEI', '17', '10', '16', '16', 'B'), ('a13', 'Daniela Patrícia Montes', 'ENGBIOM', '15', '15', '18', '19', 'B'), ('a14', 'Kaylla Pessego', 'LCC', '10', '14', '17', '15', 'B'), ('a15', 'Bianca Cristina Primitivo', 'ENGBIOM', '16', '9', '18', '10', 'B'), ('a16', 'Magna Galhardo', 'ENGFIS', '20', '18', '9', '14', 'B'), ('a17', 'Grace Isabel Patriarca', 'LCC', '19', '13', '9', '10', 'C'), ('a18', 'Saubhagya Buco', 'LEI', '18', '18', '17', '8', 'B'), ('a19', 'Ivo Vicente Boisa', 'ENGBIOM', '14', '10', '18', '13', 'B'), ('a20', 'Vivaan Castilhos', 'ENGFIS', '15', '14', '11', '12', 'B'), ('a21', 'Layana Camejo', 'ENGFIS', '17', '12', '10', '20', 'B'), ('a22', 'Mahdi Menoita', 'ENGFIS', '11', '16', '8', '16', 'C'), ('a23', 'Yifan Cortinado', 'LEI', '19', '16', '8', '18', 'B'), ('a24', 'Éder Sodré', 'ENGFIS', '17', '13', '14', '12', 'B'), ('a25', 'Dhriti Magano', 'ENGFIS', '19', '11', '8', '19', 'B'), ('a26', 'Steve Devesa', 'ENGBIOM', '10', '16', '8', '13', 'C'), ('a27', 'Lisandro Mariano Picassinos', 'ENGFIS', '13', '10', '16', '10', 'C'), ('a28', 'Itiel Quinoy', 'LEI', '18', '18', '8', '9', 'B'), ('a29', 'Pranika Reimoo', 'LEI', '12', '16', '15', '13', 'B'), ('a30', 'Manaia Viseu', 'ENGFIS', '8', '12', '20', '11', 'C'), ('a31', 'Eva Manuel Caio', 'ENGFIS', '12', '16', '20', '16', 'B'), ('a32', 'Ariane Sofia Foja', 'LEI', '20', '19', '13', '18', 'A'), ('a33', 'Jaime António Pauseiro', 'LCC', '19', '13', '8', '10', 'C'), ('a34', 'Tanisha Marzagoo', 'ENGBIOM', '14', '19', '13', '14', 'B'), ('a35', 'Siyon Anca', 'LEI', '8', '13', '19', '15', 'B'), ('a36', 'Diana Beatriz Boavista', 'LCC', '19', '18', '17', '12', 'B'), ('a37', 'Elisiário Saberio', 'ENGFIS', '18', '18', '10', '19', 'B'), ('a38', 'Maira Brites', 'ENGFIS', '13', '16', '15', '17', 'B'), ('a39', 'Victória Gabriela Incenso', 'LEI', '17', '14', '13', '8', 'B'), ('a40', 'Najua Serôdio', 'LCC', '17', '9', '16', '18', 'B'), ('a41', 'Lachezar Rosas', 'ENGBIOM', '16', '18', '18', '15', 'B'), ('a42', 'Kattleya Trigueiro', 'ENGFIS', '19', '16', '14', '15', 'B'), ('a43', 'Tatiana Guiomar Maricoto', 'LCC', '19', '8', '15', '11', 'B'), ('a44', 'Mélanie Daniela Bugalhão', 'LCC', '17', '9', '17', '18', 'B'), ('a45', 'Imayame Hespanha', 'ENGFIS', '20', '17', '19', '11', 'B'), ('a46', 'Yuri Gabriel Baganha', 'LCC', '15', '18', '12', '16', 'B'), ('a47', 'Moisés João Cornelio', 'LEI', '20', '16', '19', '17', 'A'), ('a48', 'Nazir Assif Trinta', 'LEI', '14', '14', '12', '8', 'C'), ('a49', 'Karamjot Arezes', 'LEI', '10', '9', '20', '12', 'C'), ('a50', 'Rishit Justa', 'ENGBIOM', '9', '9', '9', '12', 'D'), ('a51', 'Iara de Jesus Gonçalo', 'ENGFIS', '14', '8', '12', '14', 'C'), ('a52', 'Stepfan Owusu Lercas', 'LEI', '18', '9', '16', '14', 'B'), ('a53', 'Abner Umbelina', 'ENGBIOM', '20', '16', '10', '13', 'B'), ('a54', 'Dânia Lucy Montelobo', 'LEI', '18', '19', '15', '11', 'B'), ('a55', 'Myla Lopez', 'ENGFIS', '9', '17', '12', '20', 'B'), ('a56', 'Hakeem Brazão', 'LEI', '18', '18', '13', '20', 'A'), ('a57', 'Quinn Aveiro', 'ENGBIOM', '17', '16', '9', '13', 'B'), ('a58', 'Etienne Constentino', 'ENGBIOM', '15', '8', '9', '13', 'C'), ('a59', 'Emanuel Marcos Delfina', 'LEI', '9', '15', '8', '13', 'C'), ('a60', 'Mariana Catarina Ramalheira', 'ENGBIOM', '17', '19', '19', '11', 'B'), ('a61', 'Bradley Tabau', 'LCC', '16', '19', '16', '12', 'B'), ('a62', 'Ahmadou Bamba Calcinha', 'LCC', '13', '20', '8', '16', 'B'), ('a63', 'Francisco Pedro Derresa', 'ENGFIS', '8', '12', '20', '18', 'B'), ('a64', 'Gil Miguel Lima', 'ENGBIOM', '16', '19', '8', '14', 'B'), ('a65', 'Leonor Pedro Carqueijeiro', 'ENGBIOM', '19', '11', '17', '8', 'B'), ('a66', 'Genrikh Maximovich Vila-Chã', 'ENGFIS', '12', '15', '13', '9', 'C'), ('a67', 'Mayra Larissa Rolo', 'LCC', '15', '14', '17', '12', 'B'), ('a68', 'Leandro David Dunhoo', 'ENGBIOM', '15', '14', '11', '15', 'B'), ('a69', 'Adele Belchior', 'ENGBIOM', '17', '12', '20', '12', 'B'), ('a70', 'Frantceska Borreca', 'ENGFIS', '18', '11', '19', '8', 'B'), ('a71', 'Derrick Urias', 'ENGFIS', '11', '10', '8', '14', 'C'), ('a72', 'Ana Gabriel Quirino', 'LCC', '10', '17', '8', '19', 'B'), ('a73', 'Carolina Antoo', 'ENGBIOM', '16', '19', '20', '10', 'B'), ('a74', 'Vânia Sofia Porfirio', 'ENGBIOM', '18', '19', '18', '15', 'A'), ('a75', 'Dárcio Wosvaldo Tudela', 'LEI', '8', '18', '9', '18', 'B'), ('a76', 'Zhara Couxão', 'ENGFIS', '16', '10', '14', '12', 'B'), ('a77', 'Tomé Ferrito', 'LCC', '14', '10', '15', '19', 'B'), ('a78', 'Iasmin Paloma Chaveiro', 'LCC', '8', '15', '19', '9', 'C'), ('a79', 'Sadagi Cruto', 'ENGBIOM', '13', '18', '14', '18', 'B'), ('a80', 'Maria Carolina Josué', 'ENGFIS', '17', '20', '17', '18', 'A'), ('a81', 'Quaresma Lancastre', 'ENGBIOM', '17', '9', '16', '19', 'B'), ('a82', 'Evaldir Gervasio', 'ENGFIS', '16', '19', '15', '8', 'B'), ('a83', 'Dolorinda Adolfo', 'ENGFIS', '11', '20', '16', '8', 'B'), ('a84', 'Laudário Frasão', 'LCC', '20', '19', '10', '19', 'A'), ('a85', 'Rómula Jeronimo', 'ENGFIS', '10', '13', '12', '11', 'C'), ('a86', 'Clésio Rodeiro', 'LCC', '9', '13', '12', '18', 'B'), ('a87', 'Feliciano José Avis', 'ENGFIS', '9', '11', '10', '9', 'D'), ('a88', 'Afonso Adriano Marca', 'ENGBIOM', '8', '16', '12', '15', 'C'), ('a89', 'Victória Miguel Rosete', 'ENGFIS', '8', '13', '13', '18', 'B'), ('a90', 'Tome Teroso', 'ENGFIS', '9', '9', '10', '17', 'C'), ('a91', 'Constança Filipa Melado', 'LEI', '10', '12', '8', '20', 'C'), ('a92', 'Madalena Jesus Alfaiate', 'LEI', '17', '14', '9', '17', 'B'), ('a93', 'Bivhan Reimbau', 'LCC', '17', '11', '8', '12', 'C'), ('a94', 'Viviana Sofia Gaspar', 'ENGBIOM', '16', '16', '20', '14', 'B'), ('a95', 'Íris Soraia Chiote', 'LEI', '11', '11', '17', '16', 'B'), ('a96', 'Anaïs Sintra', 'LCC', '19', '19', '12', '9', 'B'), ('a97', 'Salvador Banaca', 'LCC', '12', '9', '20', '12', 'B'), ('a98', 'Guilherme Matias Almeirão', 'ENGFIS', '14', '9', '12', '11', 'C'), ('a99', 'Xavier Luís Bulha', 'ENGFIS', '17', '13', '8', '10', 'C'), ('a100', 'Tude Searas', 'LEI', '20', '17', '8', '14', 'B')]\n",
      "  |MENU|\n",
      "1) Ver dados\n",
      "2) Distribuição por Curso em tabela\n",
      "3) Distribuição por Curso em gráfico\n",
      "4) Distribuição por Escalões de Nota em tabela\n",
      "5) Distribuição por Escalões de Nota em gráfico\n",
      "0) Terminar/Sair\n",
      "\n",
      "| ======================DISTRIBUIÇÃO DOS ALUNOs POR ESCALÕES DE NOTA (em tabela)====================== |\n",
      "  |MENU|\n",
      "1) Ver dados\n",
      "2) Distribuição por Curso em tabela\n",
      "3) Distribuição por Curso em gráfico\n",
      "4) Distribuição por Escalões de Nota em tabela\n",
      "5) Distribuição por Escalões de Nota em gráfico\n",
      "0) Terminar/Sair\n",
      "\n",
      "| =====================DISTRIBUIÇÃO DOS ALUNOs POR ESCALÕES DE NOTA (em gráfico)====================== |\n",
      "|              C                |               25              |\n",
      "|              B                |               67              |\n",
      "|              A                |               6               |\n",
      "|              D                |               2               |\n",
      "  |MENU|\n",
      "1) Ver dados\n",
      "2) Distribuição por Curso em tabela\n",
      "3) Distribuição por Curso em gráfico\n",
      "4) Distribuição por Escalões de Nota em tabela\n",
      "5) Distribuição por Escalões de Nota em gráfico\n",
      "0) Terminar/Sair\n"
     ]
    },
    {
     "data": {
      "image/png": "[encoded data removed]",
      "text/plain": [
       "<Figure size 640x480 with 1 Axes>"
      ]
     },
     "metadata": {},
     "output_type": "display_data"
    }
   ],
   "source": [
    "#PROGRAMA:\n",
    "print(\"  |MENU|\\n1) Ver dados\\n2) Distribuição por Curso em tabela\\n3) Distribuição por Curso em gráfico\\n4) Distribuição por Escalões de Nota em tabela\\n5) Distribuição por Escalões de Nota em gráfico\\n0) Terminar/Sair\")\n",
    "tecla = int(input(\"Olá! Introduza o algarismo correspondente à ação que deseja executar do MENU :)\"))\n",
    "while tecla!=0:\n",
    "    if tecla==1:\n",
    "        print(\"\\n\"f\"| {'VISUALIZAÇÃO SEGUNDO UM MODELO(lista de tuplos)':=^100} |\")\n",
    "        print(aluno)\n",
    "        print(\"  |MENU|\\n1) Ver dados\\n2) Distribuição por Curso em tabela\\n3) Distribuição por Curso em gráfico\\n4) Distribuição por Escalões de Nota em tabela\\n5) Distribuição por Escalões de Nota em gráfico\\n0) Terminar/Sair\")\n",
    "        tecla = int(input(\"Introduza um novo algarismo para uma nova ação :)\"))\n",
    "    if tecla==2:\n",
    "        print(\"\\n\"f\"| {'DISTRIBUIÇÃO DOS ALUNOS POR CURSO EM TABELA:':=^100} |\")\n",
    "        print(curso_tabela)\n",
    "        print(\"\\n  |MENU|\\n1) Ver dados\\n2) Distribuição por Curso em tabela\\n3) Distribuição por Curso em gráfico\\n4) Distribuição por Escalões de Nota em tabela\\n5) Distribuição por Escalões de Nota em gráfico\\n0) Terminar/Sair\")\n",
    "        tecla = int(input(\"Introduza um novo algarismo para uma nova ação :)\"))\n",
    "    if tecla==3:\n",
    "        print(\"\\n\"f\"| {'DISTRIBUIÇÃO DOS ALUNOS POR CURSO EM GRÁFICO:':=^100} |\")\n",
    "        print(curso_grafico)\n",
    "        print(\"  |MENU|\\n1) Ver dados\\n2) Distribuição por Curso em tabela\\n3) Distribuição por Curso em gráfico\\n4) Distribuição por Escalões de Nota em tabela\\n5) Distribuição por Escalões de Nota em gráfico\\n0) Terminar/Sair\")\n",
    "        tecla = int(input(\"Introduza um novo algarismo para uma nova ação :)\"))\n",
    "    if tecla==4:\n",
    "        print(\"\\n\"f\"| {'DISTRIBUIÇÃO DOS ALUNOs POR ESCALÕES DE NOTA (em tabela)':=^100} |\")\n",
    "        alunos.tabela(CONTAGEM_ESCALAO)\n",
    "        print(\"\\n  |MENU|\\n1) Ver dados\\n2) Distribuição por Curso em tabela\\n3) Distribuição por Curso em gráfico\\n4) Distribuição por Escalões de Nota em tabela\\n5) Distribuição por Escalões de Nota em gráfico\\n0) Terminar/Sair\")\n",
    "        tecla = int(input(\"Introduza um novo algarismo para uma nova ação :)\"))\n",
    "    if tecla==5:\n",
    "        print(\"\\n\"f\"| {'DISTRIBUIÇÃO DOS ALUNOs POR ESCALÕES DE NOTA (em gráfico)':=^100} |\")\n",
    "        alunos.graficoLINHAS(CONTAGEM_ESCALAO)\n",
    "        print(\"\\n  |MENU|\\n1) Ver dados\\n2) Distribuição por Curso em tabela\\n3) Distribuição por Curso em gráfico\\n4) Distribuição por Escalões de Nota em tabela\\n5) Distribuição por Escalões de Nota em gráfico\\n0) Terminar/Sair\")\n",
    "        tecla = int(input(\"Introduza um novo algarismo para uma nova ação :)\"))\n",
    "    else:\n",
    "        print(\"\\n  |MENU|\\n1) Ver dados\\n2) Distribuição por Curso em tabela\\n3) Distribuição por Curso em gráfico\\n4) Distribuição por Escalões de Nota em tabela\\n5) Distribuição por Escalões de Nota em gráfico\\n0) Terminar/Sair\")\n",
    "        tecla=int(input(\"Parece que não introduziu um valor válido... Por favor digite apenas um dos algarismos disponíveis no MENU :)\"))\n"
   ]
  }
 ],
 "metadata": {
  "kernelspec": {
   "display_name": "Python 3.10.7 64-bit",
   "language": "python",
   "name": "python3"
  },
  "language_info": {
   "codemirror_mode": {
    "name": "ipython",
    "version": 3
   },
   "file_extension": ".py",
   "mimetype": "text/x-python",
   "name": "python",
   "nbconvert_exporter": "python",
   "pygments_lexer": "ipython3",
   "version": "3.10.7"
  },
  "vscode": {
   "interpreter": {
    "hash": "b1be5a1e9e85905d3e4e97ef1b769f5caa870a8a58c9f9e0ae488b6f0a0e1baf"
   }
  }
 },
 "nbformat": 4,
 "nbformat_minor": 5
}
