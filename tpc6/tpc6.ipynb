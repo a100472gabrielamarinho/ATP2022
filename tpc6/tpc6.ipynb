{
 "cells": [
  {
   "cell_type": "markdown",
   "id": "1e545158",
   "metadata": {},
   "source": [
    "# Aula Prática 6 (guião)\n",
    "### Semana de 24 a 28 de Outubro de 2022\n",
    "### José Carlos Ramalho e Luís Cunha\n",
    "### Sinopsis:\n",
    "**Vamos desenhar**: Algoritmos e modelação de problemas com representações gráficas."
   ]
  },
  {
   "cell_type": "markdown",
   "id": "7322d8fc",
   "metadata": {},
   "source": [
    "### Exercício 1: Processando um dataset em CSV\n",
    "\n",
    "Escreve um programa que lê o dataset `obras.csv` e realiza as seguintes tarefas (tenta isolar cada tarefa numa função):\n",
    "* Carrega o dataset para uma estrutura de dados pensada por ti;\n",
    "* Quantas obras existem catalogadas no dataset?\n",
    "* Imprime no monitor uma tabela com o título da obra, a sua descrição, o seu compositor e ano de criação;\n",
    "* Produz uma lista de tuplos `(título, ano)` ordenada alfabeticamente por título;\n",
    "* Produz uma lista de tuplos `(título, ano)` ordenada crescentemente por ano;\n",
    "* Produz um dicionário em que cada ano tem a ele associado a lista de títulos a ele associado;\n",
    "* Produz uma lista ordenada dos compositores;\n",
    "* Calcula uma distribuição das obras por período;\n",
    "* Calcula uma distribuição das obras por ano;\n",
    "* Calcula uma distribuição das obras por compositor;\n",
    "* Especifica uma função que recebendo uma distribuição desenha o seu gráfico. Aplica-a às distribuições anteriores;\n",
    "* Problema da inversão estrutural: calcula uma estrutura de dados que corresponde a uma lista dos compositores em que cada compositor tem a ele associado uma lista dos títulos das obras que compôs;\n",
    "* Cria uma função de visualização para estrutura de dados calculada na alínea anterior.\n"
   ]
  },
  {
   "cell_type": "code",
   "execution_count": 1,
   "id": "a8b07e22",
   "metadata": {},
   "outputs": [],
   "source": [
    "import obras\n"
   ]
  },
  {
   "cell_type": "code",
   "execution_count": null,
   "id": "fcd61505",
   "metadata": {},
   "outputs": [],
   "source": [
    "#Carrega o dataset para uma estrutura de dados pensada por ti\n",
    "\n",
    "obra = obras.leObras(\"obras.csv\")     #aquela lista incial passou a chamar-se obras, sendo que é uma lista de tuplos\n",
    "print(obra)"
   ]
  },
  {
   "cell_type": "code",
   "execution_count": null,
   "id": "29f3529c",
   "metadata": {},
   "outputs": [],
   "source": [
    "#Quantas obras existem catalogadas no dataset?\n",
    "obras.tamanhoObras(obra) #estamos a contar quantos tuplos tem na lista denominada \"obras\""
   ]
  },
  {
   "cell_type": "code",
   "execution_count": null,
   "id": "20900400",
   "metadata": {},
   "outputs": [],
   "source": [
    "#Imprime no monitor uma tabela com o título da obra, a sua descrição, o seu compositor e ano de criação;\n",
    "\n",
    "obras.imprime(obra)"
   ]
  },
  {
   "cell_type": "code",
   "execution_count": null,
   "id": "37ec599f",
   "metadata": {},
   "outputs": [],
   "source": [
    "#Produz uma lista de tuplos `(título, ano)` ordenada alfabeticamente por título;\n",
    "\n",
    "lista = obras.titAno(obra)\n",
    "print(lista)"
   ]
  },
  {
   "cell_type": "code",
   "execution_count": null,
   "id": "a83840b9",
   "metadata": {},
   "outputs": [],
   "source": [
    "#Produz uma lista de tuplos `(título, ano)` ordenada crescentemente por ano;\n",
    "\n",
    "ordenarANO= obras.titAno_2(obra)\n",
    "print(ordenarANO)"
   ]
  },
  {
   "cell_type": "code",
   "execution_count": null,
   "id": "5e9d3d3f",
   "metadata": {},
   "outputs": [],
   "source": [
    "#Produz um dicionário em que cada ano tem a ele associado a lista de títulos a ele associado;\n",
    "\n",
    "dist = obras.titporAno(obra)\n",
    "print(dist)"
   ]
  },
  {
   "cell_type": "code",
   "execution_count": null,
   "id": "d5846e1d",
   "metadata": {},
   "outputs": [],
   "source": [
    "#Produz uma lista ordenada dos compositores;\n",
    "\n",
    "compositores = obras.distCOMPOSITORES(obra)\n",
    "print(compositores)"
   ]
  },
  {
   "cell_type": "code",
   "execution_count": null,
   "id": "7e9168d1",
   "metadata": {},
   "outputs": [],
   "source": [
    "#Calcula uma distribuição das obras por período;\n",
    "\n",
    "dist_periodo = obras.distPeriodo(obra)\n",
    "print(dist_periodo)"
   ]
  },
  {
   "cell_type": "code",
   "execution_count": null,
   "id": "66040d59",
   "metadata": {},
   "outputs": [],
   "source": [
    "#Calcula uma distribuição das obras por ano;\n",
    "\n",
    "dist_ANO = obras.distANO(obra)\n",
    "print(dist_ANO)\n"
   ]
  },
  {
   "cell_type": "code",
   "execution_count": null,
   "id": "23efaaa3",
   "metadata": {},
   "outputs": [],
   "source": [
    "#Calcula uma distribuição das obras por compositor;\n",
    "\n",
    "dist_COMP = obras.distCOMP(obra)\n",
    "print(dist_COMP)"
   ]
  },
  {
   "cell_type": "code",
   "execution_count": null,
   "id": "5c5e43c3",
   "metadata": {},
   "outputs": [],
   "source": [
    "#Especifica uma função que recebendo uma distribuição desenha o seu gráfico. Aplica-a às distribuições anteriores;\n",
    "\n",
    "grafico = obras.plotDistrib(dist_ANO) #colocar dentro de parenteses o nome da distribuição que desejo ver em gráfico"
   ]
  },
  {
   "cell_type": "code",
   "execution_count": null,
   "id": "047fedef",
   "metadata": {},
   "outputs": [],
   "source": [
    "#Problema da inversão estrutural: calcula uma estrutura de dados que corresponde a uma lista dos compositores em que cada compositor tem a ele associado uma lista dos títulos das obras que compôs;\n",
    "\n",
    "inversaoESTRUTURAL = obras.compOBRAS(obra)\n",
    "print(inversaoESTRUTURAL)"
   ]
  },
  {
   "cell_type": "code",
   "execution_count": null,
   "id": "07f293d9",
   "metadata": {},
   "outputs": [],
   "source": [
    "#Cria uma função de visualização para estrutura de dados calculada na alínea anterior.\n",
    "\n",
    "visualizaINVERSAO = obras.visualizacao(inversaoESTRUTURAL)"
   ]
  },
  {
   "cell_type": "markdown",
   "id": "4193a91b",
   "metadata": {},
   "source": [
    "### TPC6: Análise de dados\n",
    "\n",
    "Completar a resolução do exercício 1:\n",
    "* obras.py\n",
    "* main.py (contem a demonstração das funcionalidades desenvolvidas em obras.py)"
   ]
  }
 ],
 "metadata": {
  "kernelspec": {
   "display_name": "Python 3.10.7 64-bit",
   "language": "python",
   "name": "python3"
  },
  "language_info": {
   "codemirror_mode": {
    "name": "ipython",
    "version": 3
   },
   "file_extension": ".py",
   "mimetype": "text/x-python",
   "name": "python",
   "nbconvert_exporter": "python",
   "pygments_lexer": "ipython3",
   "version": "3.10.7"
  },
  "vscode": {
   "interpreter": {
    "hash": "b1be5a1e9e85905d3e4e97ef1b769f5caa870a8a58c9f9e0ae488b6f0a0e1baf"
   }
  }
 },
 "nbformat": 4,
 "nbformat_minor": 5
}
