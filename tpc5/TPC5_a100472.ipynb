{
 "cells": [
  {
   "cell_type": "code",
   "execution_count": 73,
   "metadata": {},
   "outputs": [],
   "source": [
    "#função que lê os ficheiros segundo um modelo :)\n",
    "def lerficheiro(fich):\n",
    "    file = open(fich,'r')\n",
    "    dados=[]\n",
    "    for linha in file:\n",
    "        pessoa= linha.split(\",\")\n",
    "        dados.append(pessoa)\n",
    "    return dados"
   ]
  },
  {
   "cell_type": "code",
   "execution_count": 75,
   "metadata": {},
   "outputs": [],
   "source": [
    "myheart = lerficheiro(\"myheart.csv\")"
   ]
  },
  {
   "cell_type": "code",
   "execution_count": 67,
   "metadata": {},
   "outputs": [],
   "source": [
    "#funçaõ da distribuição por sexos :)\n",
    "def distribuicaoS(file):\n",
    "    dicionarioS={\"DOENÇA EM MULHERES\":0, \"DOENÇA EM HOMENS\":0, \"MULHERES SAUDÁVEIS\": 0, \"HOMENS SAUDÁVEIS\": 0}\n",
    "    for pessoa in file:\n",
    "        if pessoa[1]==\"F\":\n",
    "            if pessoa[5]==\"1\\n\":\n",
    "                dicionarioS[\"DOENÇA EM MULHERES\"]=dicionarioS[\"DOENÇA EM MULHERES\"] + 1\n",
    "            else:\n",
    "                dicionarioS[\"MULHERES SAUDÁVEIS\"]=dicionarioS[\"MULHERES SAUDÁVEIS\"] + 1\n",
    "        if pessoa[1]==\"M\":\n",
    "            if pessoa[5]==\"1\\n\":\n",
    "                dicionarioS[\"DOENÇA EM HOMENS\"]=dicionarioS[\"DOENÇA EM HOMENS\"] + 1\n",
    "            else:\n",
    "                dicionarioS[\"HOMENS SAUDÁVEIS\"]=dicionarioS[\"HOMENS SAUDÁVEIS\"] + 1\n",
    "\n",
    "    return dicionarioS"
   ]
  },
  {
   "cell_type": "code",
   "execution_count": 68,
   "metadata": {},
   "outputs": [],
   "source": [
    "#função da distribuição por idades :)\n",
    "def distribuicaoI(file):\n",
    "    dicionarioI = {\"[30,34]\":0,\"[35,39]\":0, \"[40,44]\":0, \"[45,49]\":0, \"[50,54]\":0, \"[55,59]\":0, \"[60,64]\":0, \"[65,69]\":0, \"[70,75]\":0}\n",
    "    for pessoa in file: # pq não dá o for in range....?\n",
    "        if pessoa[5]==\"1\\n\":\n",
    "            if 30 <= int(pessoa[0])<35:\n",
    "                dicionarioI[\"[30,34]\"]=dicionarioI[\"[30,34]\"] + 1\n",
    "            if 35 <= int(pessoa[0]) < 40:\n",
    "                dicionarioI[\"[35,39]\"]=dicionarioI[\"[35,39]\"] + 1\n",
    "            if 40 <= int(pessoa[0]) < 45:\n",
    "                dicionarioI[\"[40,44]\"]=dicionarioI[\"[40,44]\"] + 1\n",
    "            if 45 <= int(pessoa[0]) < 50:\n",
    "                dicionarioI[\"[45,49]\"]=dicionarioI[\"[45,49]\"] + 1\n",
    "            if 50 <= int(pessoa[0]) < 55:\n",
    "                dicionarioI[\"[50,54]\"]=dicionarioI[\"[50,54]\"] + 1\n",
    "            if 55 <= int(pessoa[0]) < 60:\n",
    "                dicionarioI[\"[55,59]\"]=dicionarioI[\"[55,59]\"] + 1\n",
    "            if 60 <= int(pessoa[0]) < 65:\n",
    "                dicionarioI[\"[60,64]\"]=dicionarioI[\"[60,64]\"] + 1\n",
    "            if 65 <= int(pessoa[0]) < 70:\n",
    "                dicionarioI[\"[65,69]\"]=dicionarioI[\"[65,69]\"] + 1\n",
    "            if 70<= int(pessoa[0])<75:\n",
    "                dicionarioI[\"[70,75]\"]= dicionarioI[\"[70,75]\"] + 1\n",
    "    return dicionarioI"
   ]
  },
  {
   "cell_type": "code",
   "execution_count": 58,
   "metadata": {},
   "outputs": [],
   "source": [
    "#função da distribuição por niveis de colesterol :)\n",
    "def distribuicaoC(file):\n",
    "    dicionarioC = {\"[NIVEL 0]\":0,\"[NIVEL 1]\":0,\"[NIVEL 2]\":0, \"[NIVEL 3]\":0, \"[NIVEL 4]\":0, \"[NIVEL 5]\":0, \"[NIVEL 6]\":0, \"[NIVEL 7]\":0, \"[NIVEL 8]\":0, \"[NIVEL 9]\":0, \"[NIVEL 10]\":0, \"[NIVEL 11]\":0, \"[NIVEL 12]\":0, \"[NIVEL 13]\":0, \"[NIVEL 14]\":0, \"[NIVEL 15]\":0, \"[NIVEL 16]\":0, \"[NIVEL 17]\":0, \"[NIVEL 18]\":0, \"[NIVEL 19]\":0, \"[NIVEL 20]\":0, \"[NIVEL 21]\":0, \"[NIVEL 22]\":0, \"[NIVEL 23]\":0, \"[NIVEL 24]\":0, \"[NIVEL 25]\":0, \"[NIVEL EXTREMAMENTE GRAVE]\":0}\n",
    "    for pessoa in file: # pq não dá o for in range....?\n",
    "        if pessoa[5]==\"1\\n\":\n",
    "            if 0 <= int(pessoa[3])<80:\n",
    "                 dicionarioC[\"[NIVEL 0]\"]=dicionarioC[\"[NIVEL 0]\"] + 1    \n",
    "            if 80 <= int(pessoa[3])<91:\n",
    "                dicionarioC[\"[NIVEL 1]\"]=dicionarioC[\"[NIVEL 1]\"] + 1\n",
    "            if 91 <= int(pessoa[3]) < 101:\n",
    "                dicionarioC[\"[NIVEL 2]\"]=dicionarioC[\"[NIVEL 2]\"] + 1\n",
    "            if 101 <= int(pessoa[3]) < 111:\n",
    "                dicionarioC[\"[NIVEL 3]\"]=dicionarioC[\"[NIVEL 3]\"] + 1\n",
    "            if 111 <= int(pessoa[3]) < 121:\n",
    "                dicionarioC[\"[NIVEL 4]\"]=dicionarioC[\"[NIVEL 4]\"] + 1\n",
    "            if 121 <= int(pessoa[3]) < 131:\n",
    "                dicionarioC[\"[NIVEL 5]\"]=dicionarioC[\"[NIVEL 5]\"] + 1\n",
    "            if 131 <= int(pessoa[3]) < 141:\n",
    "                dicionarioC[\"[NIVEL 6]\"]=dicionarioC[\"[NIVEL 6]\"] + 1\n",
    "            if 141 <= int(pessoa[3]) < 151:\n",
    "                dicionarioC[\"[NIVEL 7]\"]=dicionarioC[\"[NIVEL 7]\"] + 1\n",
    "            if 151 <= int(pessoa[3]) < 161:\n",
    "                dicionarioC[\"[NIVEL 8]\"]=dicionarioC[\"[NIVEL 8]\"] + 1\n",
    "            if 161<= int(pessoa[3])<171:\n",
    "                dicionarioC[\"[NIVEL 9]\"]= dicionarioC[\"[NIVEL 9]\"] + 1\n",
    "            if 171<= int(pessoa[3])<181:\n",
    "                dicionarioC[\"[NIVEL 10]\"]= dicionarioC[\"[NIVEL 10]\"] + 1\n",
    "            if 181<= int(pessoa[3])<191:\n",
    "                dicionarioC[\"[NIVEL 11]\"]= dicionarioC[\"[NIVEL 11]\"] + 1\n",
    "            if 191<= int(pessoa[3])<201:\n",
    "                dicionarioC[\"[NIVEL 12]\"]= dicionarioC[\"[NIVEL 12]\"] + 1\n",
    "            if 201<= int(pessoa[3])<211:\n",
    "                dicionarioC[\"[NIVEL 13]\"]= dicionarioC[\"[NIVEL 13]\"] + 1\n",
    "            if 211<= int(pessoa[3])<221:\n",
    "                dicionarioC[\"[NIVEL 14]\"]= dicionarioC[\"[NIVEL 14]\"] + 1\n",
    "            if 221<= int(pessoa[3])<231:\n",
    "                dicionarioC[\"[NIVEL 15]\"]= dicionarioC[\"[NIVEL 15]\"] + 1\n",
    "            if 231<= int(pessoa[3])<241:\n",
    "                dicionarioC[\"[NIVEL 16]\"]= dicionarioC[\"[NIVEL 16]\"] + 1\n",
    "            if 241<= int(pessoa[3])<251:\n",
    "                dicionarioC[\"[NIVEL 17]\"]= dicionarioC[\"[NIVEL 17]\"] + 1\n",
    "            if 251<= int(pessoa[3])<261:\n",
    "                dicionarioC[\"[NIVEL 18]\"]= dicionarioC[\"[NIVEL 18]\"] + 1\n",
    "            if 261<= int(pessoa[3])<271:\n",
    "                dicionarioC[\"[NIVEL 19]\"]= dicionarioC[\"[NIVEL 19]\"] + 1\n",
    "            if 271<= int(pessoa[3])<281:\n",
    "                dicionarioC[\"[NIVEL 20]\"]= dicionarioC[\"[NIVEL 20]\"] + 1\n",
    "            if 281<= int(pessoa[3])<291:\n",
    "                dicionarioC[\"[NIVEL 21]\"]= dicionarioC[\"[NIVEL 21]\"] + 1\n",
    "            if 291<= int(pessoa[3])<301:\n",
    "                dicionarioC[\"[NIVEL 22]\"]= dicionarioC[\"[NIVEL 22]\"] + 1\n",
    "            if 301<= int(pessoa[3])<311:\n",
    "                dicionarioC[\"[NIVEL 23]\"]= dicionarioC[\"[NIVEL 23]\"] + 1\n",
    "            if 311<= int(pessoa[3])<321:\n",
    "                dicionarioC[\"[NIVEL 24]\"]= dicionarioC[\"[NIVEL 24]\"] + 1\n",
    "            if 321<= int(pessoa[3])<331:\n",
    "                dicionarioC[\"[NIVEL 25]\"]= dicionarioC[\"[NIVEL 25]\"] + 1\n",
    "            if int(pessoa[3])>=331:\n",
    "                dicionarioC[\"[NIVEL EXTREMAMENTE GRAVE]\"]=dicionarioC[\"[NIVEL EXTREMAMENTE GRAVE]\"] + 1\n",
    "    return dicionarioC"
   ]
  },
  {
   "cell_type": "code",
   "execution_count": 52,
   "metadata": {},
   "outputs": [],
   "source": [
    "#função para por distribuições em tabela :)\n",
    "def tabela(distribuicao):\n",
    "    valores= list(distribuicao.items()) #lista de tuplos :)\n",
    "    for nivel in valores:\n",
    "        print(str(nivel[0])+ \"|\" + str(nivel[1]))\n",
    "    return\n",
    "    "
   ]
  },
  {
   "cell_type": "code",
   "execution_count": null,
   "metadata": {},
   "outputs": [],
   "source": [
    "#Programa executável :)\n",
    "print(\"  |MENU|\\n1) Distribuição por Sexo\\n2) Distribuição por Idades\\n3) Distribuição por Níveis de Colestrol\\n0) Terminar/Sair\")\n",
    "tecla = int(input(\"Olá! Introduza o algarismo correspondente à ação que deseja executar do MENU :)\"))\n",
    "while tecla!=0:\n",
    "    if tecla==1:\n",
    "        print(\"\\nDISTRIBUIÇÃO DA DOENÇA POR SEXO:\")\n",
    "        print(tabela(distribuicaoS(myheart)))\n",
    "        print(\"\\n  |MENU|\\n1) Distribuição por Sexo\\n2) Distribuição por Idades\\n3) Distribuição por Níveis de Colestrol\\n0) Terminar/Sair\")\n",
    "        tecla = int(input(\"Introduza um novo algarismo para uma nova ação :)\"))\n",
    "    if tecla==2:\n",
    "        print(\"\\nDISTRIBUIÇÃO DA DOENÇA POR IDADES:\")\n",
    "        print(tabela(distribuicaoI(myheart)))\n",
    "        print(\"\\n  |MENU|\\n1) Distribuição por Sexo\\n2) Distribuição por Idades\\n3) Distribuição por Níveis de Colestrol\\n0) Terminar/Sair\")\n",
    "        tecla = int(input(\"Introduza um novo algarismo para uma nova ação :)\"))\n",
    "    if tecla==3:\n",
    "        print(\"\\nDISTRIBUIÇÃO DA DOENÇA POR NIVEIS DE COLESTEROL:\")\n",
    "        print(tabela(distribuicaoC(myheart)))\n",
    "        print(\"\\n  |MENU|\\n1) Distribuição por Sexo\\n2) Distribuição por Idades\\n3) Distribuição por Níveis de Colestrol\\n0) Terminar/Sair\")\n",
    "        tecla = int(input(\"Introduza um novo algarismo para uma nova ação :)\"))\n",
    "    else:\n",
    "        print(\"\\n  |MENU|\\n1) Distribuição por Sexo\\n2) Distribuição por Idades\\n3) Distribuição por Níveis de Colestrol\\n0) Terminar/Sair\")\n",
    "        tecla=int(input(\"Parece que não introduziu um valor válido... Por favor digite apenas um dos algarismos disponíveis no MENU :)\"))\n"
   ]
  }
 ],
 "metadata": {
  "kernelspec": {
   "display_name": "Python 3.10.7 64-bit",
   "language": "python",
   "name": "python3"
  },
  "language_info": {
   "codemirror_mode": {
    "name": "ipython",
    "version": 3
   },
   "file_extension": ".py",
   "mimetype": "text/x-python",
   "name": "python",
   "nbconvert_exporter": "python",
   "pygments_lexer": "ipython3",
   "version": "3.10.7"
  },
  "orig_nbformat": 4,
  "vscode": {
   "interpreter": {
    "hash": "b1be5a1e9e85905d3e4e97ef1b769f5caa870a8a58c9f9e0ae488b6f0a0e1baf"
   }
  }
 },
 "nbformat": 4,
 "nbformat_minor": 2
}
