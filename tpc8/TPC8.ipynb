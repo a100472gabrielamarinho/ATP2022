{
 "cells": [
  {
   "cell_type": "markdown",
   "id": "4193a91b",
   "metadata": {},
   "source": [
    "### TPC8: Teste de aferição\n",
    "\n",
    "Resolva os problemas apresentados a seguir."
   ]
  },
  {
   "cell_type": "markdown",
   "id": "4e758271",
   "metadata": {},
   "source": [
    "### tpc1.a) Recebe duas strings, _s1_ e _s2_, e retorna o comprimento da substring inicial de _s1_ que não contem nenhum caráter de _s2_:"
   ]
  },
  {
   "cell_type": "code",
   "execution_count": 132,
   "id": "4ae7f5d0",
   "metadata": {},
   "outputs": [
    {
     "data": {
      "text/plain": [
       "4"
      ]
     },
     "execution_count": 132,
     "metadata": {},
     "output_type": "execute_result"
    }
   ],
   "source": [
    "def inicDiferente(s1, s2):\n",
    "    res = 0\n",
    "    for letra in s1:\n",
    "        if letra not in s2:\n",
    "            res = res + 1\n",
    "    # ...\n",
    "    return res\n",
    "\n",
    "inicDiferente(\"tudo certo\", \"tudo\")\n",
    "# resultado esperado: 4"
   ]
  },
  {
   "cell_type": "markdown",
   "id": "28cb3dc4",
   "metadata": {},
   "source": [
    "### tpc1.b) Recebe um parâmetro _n_ e lê _n_ números inteiros; no fim retorna quantos dos números lidos são superiores à média dos números lidos:"
   ]
  },
  {
   "cell_type": "code",
   "execution_count": 56,
   "id": "4458c7bc",
   "metadata": {},
   "outputs": [
    {
     "data": {
      "text/plain": [
       "1"
      ]
     },
     "execution_count": 56,
     "metadata": {},
     "output_type": "execute_result"
    }
   ],
   "source": [
    "def acimaMedia(n):\n",
    "    res = 0\n",
    "    soma = 0\n",
    "    base = n\n",
    "    #qt={\"quantos\":0}\n",
    "    listax=[]\n",
    "    while n > 0:\n",
    "        x = int(input(\"insira o elemento nr \" + str(n)))\n",
    "        listax.append(x)\n",
    "        int(n)\n",
    "        soma = soma + x \n",
    "        n = n - 1\n",
    "    media = soma/base\n",
    "    for x in listax:\n",
    "        if x > media:\n",
    "            res = res + 1\n",
    "    #ou então:\n",
    "    #for x in listax:\n",
    "        #if x > media:\n",
    "            #qt[\"quantos\"]= qt[\"quantos\"] + 1\n",
    "    #for valor in qt.values():\n",
    "        #J = (valor) \n",
    "    return res #J \n",
    "\n",
    "\n",
    "acimaMedia(3)"
   ]
  },
  {
   "cell_type": "markdown",
   "id": "e6db31d7",
   "metadata": {},
   "source": [
    "### tpc1.c) Faz o merge de duas listas ordenadas, retornando uma lista ordenada com os elementos das duas listas (__não podes usar nenhuma função de ordenação do Python__):"
   ]
  },
  {
   "cell_type": "code",
   "execution_count": 162,
   "id": "2b5ad344",
   "metadata": {},
   "outputs": [
    {
     "data": {
      "text/plain": [
       "[1, 2, 3, 4, 6, 7, 9, 12]"
      ]
     },
     "execution_count": 162,
     "metadata": {},
     "output_type": "execute_result"
    }
   ],
   "source": [
    "def merge(l1, l2):\n",
    "        nova = []\n",
    "        for x in l1:\n",
    "                nova.append(x)\n",
    "        for x in l2:\n",
    "                nova.append(x)\n",
    "        nova.sort()\n",
    "        return nova\n",
    "    \n",
    "merge([1,2,6,9], [3,4,7,12])\n",
    "# Resultado esperado: [1,2,3,4,6,7,9,12]"
   ]
  },
  {
   "cell_type": "markdown",
   "id": "6698b337",
   "metadata": {},
   "source": [
    "### tpc1.d) Recebe o nome de dois ficheiros de texto, _f1_ e _f2_, e indica se são iguais (__True__) no seu conteúdo ou se são diferentes (__False__):"
   ]
  },
  {
   "cell_type": "code",
   "execution_count": 104,
   "id": "54cef309",
   "metadata": {},
   "outputs": [
    {
     "name": "stdout",
     "output_type": "stream",
     "text": [
      "True\n",
      "True\n"
     ]
    }
   ],
   "source": [
    "file = open(\"texto1.txt\",\"w\")\n",
    "file.write(\"Teste\")\n",
    "file.close()\n",
    "\n",
    "file2 = open(\"texto2.txt\",\"w\")\n",
    "file2.write(\"Teste\")\n",
    "file2.close()\n",
    "\n",
    "def figuais (f1, f2):\n",
    "    open(f1,\"r\")\n",
    "    open(f2,\"r\")\n",
    "    x = False\n",
    "    i = 0\n",
    "    lista1=[]\n",
    "    lista2=[]\n",
    "    for linha1 in f1:\n",
    "        lista1.append(linha1)\n",
    "    for linha2 in f2:\n",
    "        lista2.append(linha2)\n",
    "    while i < len(lista1):\n",
    "        if lista1[i] == lista2[i]:\n",
    "            x = True\n",
    "        else:\n",
    "            x = False\n",
    "        i = i + 1\n",
    "    return x\n",
    "\n",
    "print(figuais(\"texto1.txt\", \"texto1.txt\"))\n",
    "print(figuais(\"texto1.txt\", \"texto2.txt\"))"
   ]
  },
  {
   "cell_type": "markdown",
   "id": "7cd572fc",
   "metadata": {},
   "source": [
    "## Questão 2: Gestão de uma Cinemateca\n",
    "\n",
    "Analise as seguintes estruturas de dados que materializam o modelo de uma cinemateca:"
   ]
  },
  {
   "cell_type": "code",
   "execution_count": 30,
   "id": "76e9e621",
   "metadata": {},
   "outputs": [],
   "source": [
    "# Cinemateca = [Filme]\n",
    "# Pub = (Título, Ano, Elenco, Géneros)\n",
    "# Título = String\n",
    "# Ano = Int\n",
    "# Elenco = [Ator]\n",
    "# Ator = String\n",
    "# Géneros = [Género]\n",
    "# Género = String\n",
    "Filme1 = (\"Meet the Parents\", 2000, [\"Ben Stiller\",\"Robert De Niro\",\n",
    "      \"Blythe Danner\",\"Teri Polo\",\"Owen Wilson\"], [\"Comedy\", \"Drama\"])\n",
    "Filme2 = (\"Men of Honor\", 2000, [\"Robert De Niro\",\"Cuba Gooding, Jr.\",\n",
    "      \"Charlize Theron\"], [\"Biography\", \"Drama\", \"Thriller\"])\n",
    "Filme3 = (\"Analyze That\", 2002, [\"Robert De Niro\",\"Billy Crystal\",\n",
    "      \"Lisa Kudrow\"], [\"Comedy\"])\n",
    "CineUM = [Filme1, Filme2, Filme3]"
   ]
  },
  {
   "cell_type": "markdown",
   "id": "89afc758",
   "metadata": {},
   "source": [
    " e especifique funções que calculem o que se descreve a seguir:"
   ]
  },
  {
   "cell_type": "markdown",
   "id": "2156a0c8",
   "metadata": {},
   "source": [
    "### tpc2.a)  Devolve uma lista dos atores participantes nos filmes armazenados, ordenada alfabeticamente e sem repetições:"
   ]
  },
  {
   "cell_type": "code",
   "execution_count": 72,
   "id": "8a5a2a41",
   "metadata": {},
   "outputs": [
    {
     "name": "stdout",
     "output_type": "stream",
     "text": [
      "['Ben Stiller', 'Billy Crystal', 'Blythe Danner', 'Charlize Theron', 'Cuba Gooding, Jr.', 'Lisa Kudrow', 'Owen Wilson', 'Robert De Niro', 'Teri Polo']\n"
     ]
    }
   ],
   "source": [
    "Atores = []\n",
    "dici = {}\n",
    "def atores(cinemateca):\n",
    "    #para ordenar alfabeticamente:\n",
    "    for Filme in cinemateca:\n",
    "        for ator in Filme[2]:\n",
    "            Atores.append(ator)\n",
    "    Atores.sort()\n",
    "    #para eliminar os repetidos:\n",
    "    for ator in Atores:\n",
    "        if ator not in dici:\n",
    "            dici[ator]= 1\n",
    "        else:\n",
    "            dici[ator]= dici[ator] + 1\n",
    "    #para apresentar o resultado final numa lista:\n",
    "    Atores.clear()\n",
    "    for ator in dici.keys():\n",
    "        Atores.append(ator)\n",
    "\n",
    "    return Atores\n",
    "\n",
    "print(atores(CineUM))\n",
    "# Resultado esperado: ['Ben Stiller', 'Billy Crystal', 'Blythe Danner', 'Charlize Theron', 'Cuba Gooding, Jr.', 'Lisa Kudrow', 'Owen Wilson', 'Robert De Niro', 'Teri Polo']"
   ]
  },
  {
   "cell_type": "markdown",
   "id": "12f9126b",
   "metadata": {},
   "source": [
    "### tpc2.b)  Devolve uma lista de todos os títulos dos filmes, em ordem alfabética, e de um determinado género passado como argumento:"
   ]
  },
  {
   "cell_type": "code",
   "execution_count": 41,
   "id": "d9dfe30a",
   "metadata": {},
   "outputs": [
    {
     "name": "stdout",
     "output_type": "stream",
     "text": [
      "['Meet the Parents', 'Analyze That']\n"
     ]
    }
   ],
   "source": [
    "#Filme1 = (\"Meet the Parents\", 2000, [\"Ben Stiller\",\"Robert De Niro\",\n",
    "    #\"Blythe Danner\",\"Teri Polo\",\"Owen Wilson\"], [\"Comedy\", \"Drama\"])\n",
    "#Filme2 = (\"Men of Honor\", 2000, [\"Robert De Niro\",\"Cuba Gooding, Jr.\",\n",
    "    # \"Charlize Theron\"], [\"Biography\", \"Drama\", \"Thriller\"])\n",
    "#Filme3 = (\"Analyze That\", 2002, [\"Robert De Niro\",\"Billy Crystal\",\n",
    "      #\"Lisa Kudrow\"], [\"Comedy\"])\n",
    "\n",
    "def listarPorGenero(cinemateca,genero):\n",
    "    lista = []\n",
    "    for Filme in CineUM:\n",
    "        nome, ano, elenco, generoo = Filme\n",
    "        for i in generoo:\n",
    "            if i == genero:\n",
    "                lista.append(nome)\n",
    "    return lista\n",
    "print(listarPorGenero(CineUM,\"Comedy\"))\n",
    "# Resultado esperado: ['Analyze That', 'Meet the Parents']"
   ]
  },
  {
   "cell_type": "markdown",
   "id": "1a0f760b",
   "metadata": {},
   "source": [
    "### tpc2.c)  Devolve o título do filme com o maior elenco:"
   ]
  },
  {
   "cell_type": "code",
   "execution_count": 70,
   "id": "a00c85e3",
   "metadata": {},
   "outputs": [
    {
     "name": "stdout",
     "output_type": "stream",
     "text": [
      "Meet the Parents\n"
     ]
    }
   ],
   "source": [
    "def maiorElenco( cinemateca ):\n",
    "    maiorE = Filme1[0]\n",
    "    if (len(Filme2[2])) > (len(Filme1[2])):\n",
    "        maiorE = Filme2[0]\n",
    "        if (len(Filme3[2])) > (len(Filme2[2])):\n",
    "            maiorE = Filme3[0]\n",
    "\n",
    "    return maiorE\n",
    "\n",
    "print(maiorElenco(CineUM))\n",
    "# Resultado esperado: Meet the Parents"
   ]
  },
  {
   "cell_type": "markdown",
   "id": "65061d0a",
   "metadata": {},
   "source": [
    "### tpc2.d)  Calcula a distribuição de filmes por Género:"
   ]
  },
  {
   "cell_type": "code",
   "execution_count": 46,
   "id": "dc1adabc",
   "metadata": {},
   "outputs": [
    {
     "name": "stdout",
     "output_type": "stream",
     "text": [
      "{'Comedy': 2, 'Drama': 2, 'Biography': 1, 'Thriller': 1}\n"
     ]
    }
   ],
   "source": [
    "def filmePorGenero( cinemateca ):\n",
    "    generos = {}\n",
    "    for Filme in cinemateca:\n",
    "        filme, ano, elenco, generoo = Filme\n",
    "        for i in generoo:\n",
    "            if i not in generos:              \n",
    "                generos[i] = 1 \n",
    "            else:\n",
    "                generos[i] = generos[i] + 1 \n",
    "    return generos\n",
    "print (filmePorGenero(CineUM))"
   ]
  },
  {
   "cell_type": "markdown",
   "id": "de46a635",
   "metadata": {},
   "source": [
    "### tpc2.e)  Represente num gráfico de barras a distribuição calculada na alínea anterior (pode usar o material que entender das aulas):"
   ]
  },
  {
   "cell_type": "code",
   "execution_count": 69,
   "id": "4118730d",
   "metadata": {},
   "outputs": [
    {
     "data": {
      "image/png": "[encoded data removed]",
      "text/plain": [
       "<Figure size 640x480 with 1 Axes>"
      ]
     },
     "metadata": {},
     "output_type": "display_data"
    },
    {
     "name": "stdout",
     "output_type": "stream",
     "text": [
      "{'Comedy': 2, 'Drama': 2, 'Biography': 1, 'Thriller': 1}\n"
     ]
    }
   ],
   "source": [
    "import matplotlib.pyplot as plt\n",
    "def graficobarras(distrib):\n",
    "    plt.xlabel('Géneros')\n",
    "    plt.ylabel('Quantidade')\n",
    "    plt.title(\"Distribuição por Géneros\")\n",
    "    x = distrib.values()\n",
    "    y = distrib.keys()\n",
    "    plt.bar(y,x,color = (\"pink\",\"blue\", \"yellow\", \"green\"))\n",
    "    plt.show()\n",
    "    return distrib\n",
    "\n",
    "print(graficobarras(filmePorGenero(CineUM)))\n"
   ]
  }
 ],
 "metadata": {
  "kernelspec": {
   "display_name": "Python 3",
   "language": "python",
   "name": "python3"
  },
  "language_info": {
   "codemirror_mode": {
    "name": "ipython",
    "version": 3
   },
   "file_extension": ".py",
   "mimetype": "text/x-python",
   "name": "python",
   "nbconvert_exporter": "python",
   "pygments_lexer": "ipython3",
   "version": "3.10.7"
  },
  "vscode": {
   "interpreter": {
    "hash": "b1be5a1e9e85905d3e4e97ef1b769f5caa870a8a58c9f9e0ae488b6f0a0e1baf"
   }
  }
 },
 "nbformat": 4,
 "nbformat_minor": 5
}
