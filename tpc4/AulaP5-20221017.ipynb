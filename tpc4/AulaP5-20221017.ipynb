{
 "cells": [
  {
   "cell_type": "markdown",
   "id": "1e545158",
   "metadata": {},
   "source": [
    "# Aula Prática 5 (guião)\n",
    "### Semana de 17 a 21 de Outubro de 2022\n",
    "### José Carlos Ramalho e Luís Cunha\n",
    "### Sinopsis:\n",
    "Algoritmos e modelação de problemas com armazenamento em memória secundária."
   ]
  },
  {
   "cell_type": "markdown",
   "id": "1d9c2fbc",
   "metadata": {},
   "source": [
    "### Exercício 1: Polinómios\n",
    "\n",
    "Neste exercício, desenvolva as seguintes alíneas:"
   ]
  },
  {
   "cell_type": "markdown",
   "id": "8ef1ac42",
   "metadata": {},
   "source": [
    "#### a) Pense num modelo para polinómios e instancia os seguintes exemplos:\n",
    "\n",
    "* `x`\n",
    "* `2x + 1`\n",
    "* `7x^5 + 6x^3 - 2x^2 + 27`"
   ]
  },
  {
   "cell_type": "code",
   "execution_count": null,
   "id": "854085f7",
   "metadata": {},
   "outputs": [],
   "source": [
    "# Solução de 1.a)\n",
    "#polinomio = [Termo]\n",
    "#Termo = (coeficiente,grau)       # o termo é um tuplo\n",
    "\n",
    "\n",
    "polinomio1 = [(1,1)]\n",
    "polinomio2 = [(2,1),(1,0)]\n",
    "polinomio3 = [(7,5),(6,3)(-2,2),(27,0)]\n",
    "\n",
    "\n",
    "\n"
   ]
  },
  {
   "cell_type": "markdown",
   "id": "fdc3ff66",
   "metadata": {},
   "source": [
    "#### b) Defina uma função, ou funções, que pede ao utilizador a informação necessária para criar um polinómio, cria esse polinómio e devolve-o como resultado"
   ]
  },
  {
   "cell_type": "code",
   "execution_count": 6,
   "id": "fb44546a",
   "metadata": {},
   "outputs": [
    {
     "data": {
      "text/plain": [
       "[(3, 5), (4, 4), (3, 3), (2, 2), (1, 1), (5, 0)]"
      ]
     },
     "execution_count": 6,
     "metadata": {},
     "output_type": "execute_result"
    }
   ],
   "source": [
    "# Solução de 1.b)\n",
    "def criaPolIn():\n",
    "    pol = []\n",
    "    grau = int(input(\"Introduza o grau do Polinómio: \"))\n",
    "    while(grau>=0):\n",
    "        coe = int(input(\"Introduza o coeficiente de grau:\" + str(grau)))  #só posso somar string com string logo tenho de transformar o grau em string\n",
    "        if coe !=0:\n",
    "            monomio = (coe,grau)\n",
    "            pol.append(monomio)\n",
    "        grau = grau - 1\n",
    "    return pol\n",
    "criaPolIn()"
   ]
  },
  {
   "cell_type": "markdown",
   "id": "9d3475e4",
   "metadata": {},
   "source": [
    "#### c) Defina uma função que calcula o valor do polinómio dado um valor de `x`"
   ]
  },
  {
   "cell_type": "code",
   "execution_count": 13,
   "id": "0af849be",
   "metadata": {},
   "outputs": [
    {
     "name": "stdout",
     "output_type": "stream",
     "text": [
      "7\n"
     ]
    }
   ],
   "source": [
    "#vamos definir a função potencia aqui neste exercício\n",
    "def pot(b,e):\n",
    "    res = 1\n",
    "    while e>0:\n",
    "        res = b * res\n",
    "        e = e -1\n",
    "    return res\n",
    "\n",
    "def calcPolinomio(p,x):\n",
    "    res = 0\n",
    "    for termo in p:\n",
    "        coe, grau = termo\n",
    "        res = coe * pot(x,grau) + res\n",
    "    return res\n",
    "print(calcPolinomio(polinomio1,7))"
   ]
  },
  {
   "cell_type": "code",
   "execution_count": 20,
   "id": "c3476577",
   "metadata": {},
   "outputs": [
    {
     "name": "stdout",
     "output_type": "stream",
     "text": [
      "-10\n",
      "-9\n",
      "-8\n",
      "-7\n",
      "-6\n",
      "-5\n",
      "-4\n",
      "-3\n",
      "-2\n",
      "-1\n",
      "0\n",
      "1\n",
      "2\n",
      "3\n",
      "4\n",
      "5\n",
      "6\n",
      "7\n",
      "8\n",
      "9\n"
     ]
    }
   ],
   "source": [
    "for i in range(-10,10):\n",
    "    print(calcPolinomio(polinomio1,i))"
   ]
  },
  {
   "cell_type": "code",
   "execution_count": 15,
   "id": "54925f39",
   "metadata": {},
   "outputs": [
    {
     "data": {
      "text/plain": [
       "7"
      ]
     },
     "execution_count": 15,
     "metadata": {},
     "output_type": "execute_result"
    }
   ],
   "source": [
    "calcPolinomio(polinomio1,7)"
   ]
  },
  {
   "cell_type": "markdown",
   "id": "5fa6de75",
   "metadata": {},
   "source": [
    "#### d) Defina uma função que imprima no monitor o polinómio"
   ]
  },
  {
   "cell_type": "code",
   "execution_count": 29,
   "id": "b0716c72",
   "metadata": {},
   "outputs": [
    {
     "name": "stderr",
     "output_type": "stream",
     "text": [
      "<>:2: SyntaxWarning: 'tuple' object is not callable; perhaps you missed a comma?\n",
      "<>:2: SyntaxWarning: 'tuple' object is not callable; perhaps you missed a comma?\n",
      "C:\\Users\\gabri\\AppData\\Local\\Temp\\ipykernel_11948\\923141476.py:2: SyntaxWarning: 'tuple' object is not callable; perhaps you missed a comma?\n",
      "  polinomio3 = [(7,5),(6,3)(-2,2),(27,0)]\n"
     ]
    },
    {
     "ename": "TypeError",
     "evalue": "'tuple' object is not callable",
     "output_type": "error",
     "traceback": [
      "\u001b[1;31m---------------------------------------------------------------------------\u001b[0m",
      "\u001b[1;31mTypeError\u001b[0m                                 Traceback (most recent call last)",
      "Cell \u001b[1;32mIn [29], line 2\u001b[0m\n\u001b[0;32m      1\u001b[0m \u001b[39m# Solução de 1.d)\u001b[39;00m\n\u001b[1;32m----> 2\u001b[0m polinomio3 \u001b[39m=\u001b[39m [(\u001b[39m7\u001b[39m,\u001b[39m5\u001b[39m),(\u001b[39m6\u001b[39m,\u001b[39m3\u001b[39m)(\u001b[39m-\u001b[39m\u001b[39m2\u001b[39m,\u001b[39m2\u001b[39m),(\u001b[39m27\u001b[39m,\u001b[39m0\u001b[39m)]\n\u001b[0;32m      3\u001b[0m \u001b[39mdef\u001b[39;00m \u001b[39mverPolinomio\u001b[39m(p):\n\u001b[0;32m      4\u001b[0m     \u001b[39mfor\u001b[39;00m mon \u001b[39min\u001b[39;00m p:\n",
      "\u001b[1;31mTypeError\u001b[0m: 'tuple' object is not callable"
     ]
    }
   ],
   "source": [
    "# Solução de 1.d)\n",
    "polinomio3 = [(7,5),(6,3)(-2,2),(27,0)]\n",
    "def verPolinomio(p):\n",
    "    for mon in p:\n",
    "        coe,grau=mon\n",
    "        if grau != 0:\n",
    "            print(\" + \" + str(coe) + \"x\" + str(grau), end=\"\")\n",
    "        else:\n",
    "            print(\" + \" + str(coe))\n",
    "    return\n",
    "\n",
    "verPolinomio(polinomio3)"
   ]
  },
  {
   "cell_type": "markdown",
   "id": "beb31acc",
   "metadata": {},
   "source": [
    "#### e) Defina uma função que calcula o grau de um polinómio dado"
   ]
  },
  {
   "cell_type": "code",
   "execution_count": null,
   "id": "09816d6e",
   "metadata": {},
   "outputs": [],
   "source": [
    "# Solução de 1.e)\n",
    "def grauPolinomio(p):\n",
    "\n",
    "    return"
   ]
  },
  {
   "cell_type": "markdown",
   "id": "0cfe33d8",
   "metadata": {},
   "source": [
    "#### f) Defina uma função que imprime no monitor uma tabela com n linhas: x | p(x)"
   ]
  },
  {
   "cell_type": "code",
   "execution_count": 33,
   "id": "3619f63c",
   "metadata": {},
   "outputs": [
    {
     "ename": "NameError",
     "evalue": "name 'polinomio3' is not defined",
     "output_type": "error",
     "traceback": [
      "\u001b[1;31m---------------------------------------------------------------------------\u001b[0m",
      "\u001b[1;31mNameError\u001b[0m                                 Traceback (most recent call last)",
      "Cell \u001b[1;32mIn [33], line 9\u001b[0m\n\u001b[0;32m      6\u001b[0m         i \u001b[39m=\u001b[39m i \u001b[39m+\u001b[39m \u001b[39m1\u001b[39m\n\u001b[0;32m      7\u001b[0m     \u001b[39mreturn\u001b[39;00m\n\u001b[1;32m----> 9\u001b[0m tabela(polinomio3,\u001b[39m5\u001b[39m)\n",
      "\u001b[1;31mNameError\u001b[0m: name 'polinomio3' is not defined"
     ]
    }
   ],
   "source": [
    "# Solução de 1.f)\n",
    "def tabela(p, linhas):\n",
    "    i = 0\n",
    "    while i < linhas:\n",
    "        print( i, \"|\" , calcPolinomio(p,i))\n",
    "        i = i + 1\n",
    "    return\n",
    "\n",
    "tabela(polinomio3,5)"
   ]
  },
  {
   "cell_type": "markdown",
   "id": "df16478c",
   "metadata": {},
   "source": [
    "#### g) Define uma função que dado um polinómio calcula a sua derivada"
   ]
  },
  {
   "cell_type": "code",
   "execution_count": null,
   "id": "6bd99681",
   "metadata": {},
   "outputs": [],
   "source": [
    "# Solução de 1.g)\n",
    "def derivarPolinomio(p):\n",
    "\n",
    "    return"
   ]
  },
  {
   "cell_type": "code",
   "execution_count": null,
   "id": "4d7629e7",
   "metadata": {},
   "outputs": [],
   "source": [
    "#### i) ALGUMAS NOTAS SOBRE FICHEIROS:"
   ]
  },
  {
   "cell_type": "code",
   "execution_count": 34,
   "id": "efae7f38",
   "metadata": {},
   "outputs": [],
   "source": [
    "#sobre ficheiros\n",
    "\n",
    "filename = \"ficheiro.txt\" #tou a dar o nome ao ficheiro\n",
    "file = open(filename,\"w\") # estou a criá-lo #w de write #este ficheiro vai para pasta disto tudo\n",
    "file.write(\"Hello word\") # estou a escrever no ficheiro, sendo que como é write estou a apagar tudo o que já lá estava\n",
    "file.close()   #estou a fechar o ficheiro"
   ]
  },
  {
   "cell_type": "code",
   "execution_count": null,
   "id": "acefcd61",
   "metadata": {},
   "outputs": [],
   "source": [
    "lines= file.readlines() #isto lê tudo de uma vez e mete numa lista \n",
    "file.read() #isto lê tudo de uma vez e mete numa string"
   ]
  },
  {
   "cell_type": "code",
   "execution_count": null,
   "id": "adbb2a82",
   "metadata": {},
   "outputs": [],
   "source": [
    "#lendo o ficheiro\n",
    "file2 = open(filename, \"r\")\n",
    "for linha in file2:      # aqui estou a ler o ficheiro linha a linha\n",
    "    print(linha)"
   ]
  },
  {
   "cell_type": "markdown",
   "id": "a582ac17",
   "metadata": {},
   "source": [
    "#### h) Defina uma função para guardar um polinómio num ficheiro"
   ]
  },
  {
   "cell_type": "code",
   "execution_count": null,
   "id": "2b3f58dd",
   "metadata": {},
   "outputs": [],
   "source": [
    "# Solução de 1.h)\n",
    "def guardarPolinomio(p, fnome):\n",
    "    file = open(fnome,\"w\")        #convem guardar um polinomio por linha daí colocarmos um \\n\n",
    "    for pol in listp:\n",
    "        for termo in pol:\n",
    "            coe, grau = termo\n",
    "            file.write(str(coe) + \";\" + str(grau))\n",
    "            file.write(\"#\")     # tudo o que está à esquerda do # é um termo \n",
    "        file.write(\"\\n\")\n",
    "    file.close()   # fechar sempre no final para não ocupar memória\n",
    "    return"
   ]
  },
  {
   "cell_type": "markdown",
   "id": "7f7d1410",
   "metadata": {},
   "source": [
    "#### i) Defina uma função para recuperar um polinómio dum ficheiro"
   ]
  },
  {
   "cell_type": "code",
   "execution_count": 1,
   "id": "72081c41",
   "metadata": {},
   "outputs": [],
   "source": [
    "# Solução de 1.i)\n",
    "def recuperarPolinomio(fnome):\n",
    "    file2 = open(fnome,\"r\") #se não colocarmos a maneira como queremos abrir, por defeito vai abrir com r mm, acho eu\n",
    "    listaGrande = []\n",
    "    for line in file2:\n",
    "        termos = line.split(\"#\")   # strip tira espaços no inicio ou no fim de um string\n",
    "        for t in termos:\n",
    "            elems = t.split(\";\")\n",
    "            print(elems)\n",
    "            #print(elems)\n",
    "            if len(elems)== 2:\n",
    "                coe = elems[0]\n",
    "                grau = (coe, grau)\n",
    "                print(termo)\n",
    "                listaPolinomio.append(termo)\n",
    "            listaGrande.append(listaPolinomio)\n",
    "    return listaGrande"
   ]
  },
  {
   "cell_type": "markdown",
   "id": "fed2fbc4",
   "metadata": {},
   "source": [
    "#### j) Baseando-se nas funções até agora criadas, crie novas funções para manipular listas de polinómios: criar, ver, guardar e recuperar"
   ]
  },
  {
   "cell_type": "code",
   "execution_count": null,
   "id": "986c8587",
   "metadata": {},
   "outputs": [],
   "source": [
    "# Solução de 1.j)\n",
    "# ..."
   ]
  },
  {
   "cell_type": "markdown",
   "id": "6bea73df",
   "metadata": {},
   "source": [
    "#### k) Junte todas as funções num módulo, `polinomios.py`, e usa-o num pequeno programa exemplo"
   ]
  },
  {
   "cell_type": "code",
   "execution_count": null,
   "id": "82a2401b",
   "metadata": {},
   "outputs": [],
   "source": [
    "# Solução de 1.k)"
   ]
  },
  {
   "cell_type": "markdown",
   "id": "4193a91b",
   "metadata": {},
   "source": [
    "### TPC5: Análise de dados: doença cardíaca\n",
    "\n",
    "Descarregue o ficheiro de dados: `myheart.csv`\n",
    "Crie um programa em Python, conjunto de funções, que responda às seguintes questões:\n",
    "* Crie uma função que lê a informação do ficheiro para um modelo, previamente pensado em memória;\n",
    "* Crie uma função que calcula a distribuição da doença por sexo;\n",
    "* Crie uma função que calcula a distribuição da doença por escalões etários. Considere os seguintes escalões: [30-34], [35-39], [40-44], ...\n",
    "* Crie uma função que calcula a distribuição da doença por níveis de colesterol. Considere um nível igual a um intervalo de 10 unidades, comece no limite inferior e crie os níveis necessários até abranger o limite superior;\n",
    "* Crie uma função que imprime na forma de uma tabela uma distribuição;\n",
    "* Especifique um programa que ao executar apresenta as tabelas correspondentes às distribuições pedidas."
   ]
  }
 ],
 "metadata": {
  "kernelspec": {
   "display_name": "Python 3.10.7 64-bit",
   "language": "python",
   "name": "python3"
  },
  "language_info": {
   "codemirror_mode": {
    "name": "ipython",
    "version": 3
   },
   "file_extension": ".py",
   "mimetype": "text/x-python",
   "name": "python",
   "nbconvert_exporter": "python",
   "pygments_lexer": "ipython3",
   "version": "3.10.7"
  },
  "vscode": {
   "interpreter": {
    "hash": "b1be5a1e9e85905d3e4e97ef1b769f5caa870a8a58c9f9e0ae488b6f0a0e1baf"
   }
  }
 },
 "nbformat": 4,
 "nbformat_minor": 5
}
